{
 "cells": [
  {
   "cell_type": "markdown",
   "id": "21205499",
   "metadata": {},
   "source": [
    "# 📘 Smart Home Automation using AI\n",
    "Simulate a basic smart home system that controls devices based on user commands and environmental inputs using rule-based logic and ML."
   ]
  },
  {
   "cell_type": "code",
   "execution_count": null,
   "id": "f15f32ea",
   "metadata": {},
   "outputs": [],
   "source": [
    "import random\n",
    "from sklearn.tree import DecisionTreeClassifier\n",
    "import pandas as pd"
   ]
  },
  {
   "cell_type": "code",
   "execution_count": null,
   "id": "56c217f2",
   "metadata": {},
   "outputs": [],
   "source": [
    "# Step 2: Simulated dataset (Temperature, Time of Day, Motion Detected)\n",
    "data = {\n",
    "    'temperature': [18, 25, 30, 15, 22, 28, 35, 20],\n",
    "    'time_of_day': ['morning', 'afternoon', 'afternoon', 'night', 'morning', 'afternoon', 'evening', 'night'],\n",
    "    'motion_detected': [1, 1, 0, 1, 0, 1, 1, 0],\n",
    "    'light_on': [1, 1, 0, 1, 0, 1, 1, 0],\n",
    "    'ac_on': [0, 0, 1, 0, 0, 1, 1, 0]\n",
    "}\n",
    "\n",
    "df = pd.DataFrame(data)"
   ]
  },
  {
   "cell_type": "code",
   "execution_count": null,
   "id": "09b67249",
   "metadata": {},
   "outputs": [],
   "source": [
    "# Step 3: Encode categorical feature (time_of_day)\n",
    "df['time_encoded'] = df['time_of_day'].map({'morning': 0, 'afternoon': 1, 'evening': 2, 'night': 3})\n",
    "\n",
    "X = df[['temperature', 'time_encoded', 'motion_detected']]\n",
    "y_light = df['light_on']\n",
    "y_ac = df['ac_on']"
   ]
  },
  {
   "cell_type": "code",
   "execution_count": null,
   "id": "373faf95",
   "metadata": {},
   "outputs": [],
   "source": [
    "# Step 4: Train models\n",
    "light_model = DecisionTreeClassifier()\n",
    "ac_model = DecisionTreeClassifier()\n",
    "light_model.fit(X, y_light)\n",
    "ac_model.fit(X, y_ac)"
   ]
  },
  {
   "cell_type": "code",
   "execution_count": null,
   "id": "54d66f74",
   "metadata": {},
   "outputs": [],
   "source": [
    "# Step 5: Smart Prediction Function\n",
    "def smart_home_decision(temp, time_str, motion):\n",
    "    time_map = {'morning': 0, 'afternoon': 1, 'evening': 2, 'night': 3}\n",
    "    time_encoded = time_map.get(time_str.lower(), 0)\n",
    "    features = [[temp, time_encoded, motion]]\n",
    "\n",
    "    light_status = light_model.predict(features)[0]\n",
    "    ac_status = ac_model.predict(features)[0]\n",
    "\n",
    "    print(\"\\n🔍 Smart Home Status:\")\n",
    "    print(f\"- Temperature: {temp}°C\")\n",
    "    print(f\"- Time of Day: {time_str.title()}\")\n",
    "    print(f\"- Motion Detected: {'Yes' if motion else 'No'}\")\n",
    "    print(f\"- Light: {'ON' if light_status else 'OFF'}\")\n",
    "    print(f\"- AC: {'ON' if ac_status else 'OFF'}\")"
   ]
  },
  {
   "cell_type": "code",
   "execution_count": null,
   "id": "5733811a",
   "metadata": {},
   "outputs": [],
   "source": [
    "# Step 6: Test the system\n",
    "smart_home_decision(29, 'evening', 1)\n",
    "smart_home_decision(19, 'night', 0)\n",
    "smart_home_decision(32, 'afternoon', 1)"
   ]
  }
 ],
 "metadata": {},
 "nbformat": 4,
 "nbformat_minor": 5
}
